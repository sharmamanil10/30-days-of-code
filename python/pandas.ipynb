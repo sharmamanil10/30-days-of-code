{
 "cells": [
  {
   "cell_type": "markdown",
   "metadata": {},
   "source": [
    "# Pandas"
   ]
  },
  {
   "cell_type": "markdown",
   "metadata": {},
   "source": [
    "Pandas is an open source library in python which is used to provide high performance, easy to use data structures and data analysis tools.\n",
    "\n",
    "It can be installed easily by **pip**-  **pip3 install pandas**\n",
    "\n",
    "Also on **Anaconda**- **conda install pandas**\n"
   ]
  },
  {
   "cell_type": "markdown",
   "metadata": {},
   "source": [
    "** Introduction**"
   ]
  },
  {
   "cell_type": "markdown",
   "metadata": {},
   "source": [
    "Pandas basically deals with the three data structures:\n",
    "    \n",
    "1. Series (1 Dimensional)\n",
    "2. DataFrame(2 Dimensional)\n",
    "3. Panel(3 Dimensional)\n",
    "\n"
   ]
  },
  {
   "cell_type": "markdown",
   "metadata": {},
   "source": [
    "## Imports"
   ]
  },
  {
   "cell_type": "code",
   "execution_count": 15,
   "metadata": {},
   "outputs": [],
   "source": [
    "import pandas as pd\n",
    "import numpy as np"
   ]
  },
  {
   "cell_type": "markdown",
   "metadata": {},
   "source": [
    "## Series"
   ]
  },
  {
   "cell_type": "markdown",
   "metadata": {},
   "source": [
    "Series takes 4 arguments in the parameter. They are data, index, dtype, copy."
   ]
  },
  {
   "cell_type": "code",
   "execution_count": 16,
   "metadata": {},
   "outputs": [
    {
     "name": "stdout",
     "output_type": "stream",
     "text": [
      "Series([], dtype: float64)\n"
     ]
    }
   ],
   "source": [
    "s = pd.Series()\n",
    "\n",
    "print(s)"
   ]
  },
  {
   "cell_type": "code",
   "execution_count": 17,
   "metadata": {},
   "outputs": [
    {
     "name": "stdout",
     "output_type": "stream",
     "text": [
      "0    a\n",
      "1    b\n",
      "2    c\n",
      "3    d\n",
      "dtype: object\n"
     ]
    }
   ],
   "source": [
    "data = np.array(['a','b','c','d'])  # A simple numpy array\n",
    "\n",
    "s = pd.Series(data)\n",
    "print(s)"
   ]
  },
  {
   "cell_type": "code",
   "execution_count": 45,
   "metadata": {},
   "outputs": [],
   "source": [
    "#We did not pass any index so by default it takes the index from 0-3."
   ]
  },
  {
   "cell_type": "markdown",
   "metadata": {},
   "source": [
    "Now let us pass the index in it."
   ]
  },
  {
   "cell_type": "code",
   "execution_count": 18,
   "metadata": {},
   "outputs": [
    {
     "name": "stdout",
     "output_type": "stream",
     "text": [
      "10    a\n",
      "20    b\n",
      "30    c\n",
      "40    d\n",
      "dtype: object\n"
     ]
    }
   ],
   "source": [
    "data = np.array(['a','b','c','d'])  # A simple numpy array\n",
    "index = [10,20,30,40]\n",
    "\n",
    "s = pd.Series(data, index)  #or index=[10,20,30,40] can be passed in the parameters too\n",
    "print(s)"
   ]
  },
  {
   "cell_type": "markdown",
   "metadata": {},
   "source": [
    "Also to instead of creating two different arrays and passing them we can use Python **Dictionaries** instead."
   ]
  },
  {
   "cell_type": "code",
   "execution_count": 19,
   "metadata": {},
   "outputs": [
    {
     "name": "stdout",
     "output_type": "stream",
     "text": [
      "Jerry          1\n",
      "Ratatouille    2\n",
      "Stuart         0\n",
      "dtype: object\n"
     ]
    }
   ],
   "source": [
    "data = {'Stuart': 0, 'Jerry': '1', 'Ratatouille': 2}\n",
    "\n",
    "a = pd.Series(data)\n",
    "print(a)"
   ]
  },
  {
   "cell_type": "code",
   "execution_count": 46,
   "metadata": {},
   "outputs": [],
   "source": [
    "#Here keys are used as indexes."
   ]
  },
  {
   "cell_type": "markdown",
   "metadata": {},
   "source": [
    "If a scalar is used as data in it so the indexes should be provided. The value will be repeated."
   ]
  },
  {
   "cell_type": "code",
   "execution_count": 20,
   "metadata": {},
   "outputs": [
    {
     "name": "stdout",
     "output_type": "stream",
     "text": [
      "10    Hi\n",
      "20    Hi\n",
      "30    Hi\n",
      "40    Hi\n",
      "dtype: object\n"
     ]
    }
   ],
   "source": [
    "a = pd.Series('Hi', index = [10, 20, 30, 40])\n",
    "\n",
    "print(a)"
   ]
  },
  {
   "cell_type": "code",
   "execution_count": 21,
   "metadata": {},
   "outputs": [
    {
     "name": "stdout",
     "output_type": "stream",
     "text": [
      "10\n"
     ]
    }
   ],
   "source": [
    "data = [10,20,30,40]\n",
    "index = ['a','b','c','d'] \n",
    "\n",
    "s = pd.Series(data, index) \n",
    "\n",
    "print(s[0])      # Accessing by element wise. ie the first element as 0 and so on"
   ]
  },
  {
   "cell_type": "code",
   "execution_count": 22,
   "metadata": {},
   "outputs": [
    {
     "name": "stdout",
     "output_type": "stream",
     "text": [
      "10\n"
     ]
    }
   ],
   "source": [
    "data = [10,20,30,40]\n",
    "index = ['a','b','c','d'] \n",
    "\n",
    "s = pd.Series(data, index) \n",
    "\n",
    "print(s['a'])   # Accessing by index. ie the first element has an index as 'a'"
   ]
  },
  {
   "cell_type": "code",
   "execution_count": 23,
   "metadata": {},
   "outputs": [
    {
     "name": "stdout",
     "output_type": "stream",
     "text": [
      "a    10\n",
      "c    30\n",
      "d    40\n",
      "dtype: int64\n"
     ]
    }
   ],
   "source": [
    "print(s[['a', 'c', 'd']]) # Accessing multiple elements. "
   ]
  },
  {
   "cell_type": "markdown",
   "metadata": {},
   "source": [
    "## DataFrame"
   ]
  },
  {
   "cell_type": "markdown",
   "metadata": {},
   "source": [
    "DataFrame takes 5 arguments in the parameter. They are data, index, columns,  dtype, copy."
   ]
  },
  {
   "cell_type": "markdown",
   "metadata": {},
   "source": [
    "A Pandas DataFrame can be created by: Lists, Dictionaries, Series, Numpy Arrays, Another Dataframe."
   ]
  },
  {
   "cell_type": "code",
   "execution_count": 24,
   "metadata": {},
   "outputs": [
    {
     "name": "stdout",
     "output_type": "stream",
     "text": [
      "Empty DataFrame\n",
      "Columns: []\n",
      "Index: []\n"
     ]
    }
   ],
   "source": [
    "df = pd.DataFrame()\n",
    "\n",
    "print(df)"
   ]
  },
  {
   "cell_type": "code",
   "execution_count": 25,
   "metadata": {},
   "outputs": [
    {
     "name": "stdout",
     "output_type": "stream",
     "text": [
      "   0\n",
      "0  a\n",
      "1  b\n",
      "2  c\n",
      "3  d\n"
     ]
    }
   ],
   "source": [
    "data = ['a', 'b', 'c', 'd']\n",
    "\n",
    "df = pd.DataFrame(data)\n",
    "print(df)"
   ]
  },
  {
   "cell_type": "markdown",
   "metadata": {},
   "source": [
    "We did not pass any index so by default it takes the index from 0-3.\n",
    "Now let us pass the index in it. Also it took the column heading as 0 by default"
   ]
  },
  {
   "cell_type": "code",
   "execution_count": 26,
   "metadata": {},
   "outputs": [
    {
     "name": "stdout",
     "output_type": "stream",
     "text": [
      "         Name  Age\n",
      "0      Stuart    5\n",
      "1       Jerry    7\n",
      "2  Rataouille    9\n"
     ]
    }
   ],
   "source": [
    "data = [['Stuart', 5], ['Jerry', 7], ['Rataouille', 9]]\n",
    "\n",
    "df = pd.DataFrame(data, columns=['Name', 'Age'])\n",
    "print(df)"
   ]
  },
  {
   "cell_type": "markdown",
   "metadata": {},
   "source": [
    "So we made the columns with the specific heading that we wanted."
   ]
  },
  {
   "cell_type": "code",
   "execution_count": 27,
   "metadata": {},
   "outputs": [
    {
     "name": "stdout",
     "output_type": "stream",
     "text": [
      "         Name  Age\n",
      "0      Stuart  5.0\n",
      "1       Jerry  7.0\n",
      "2  Rataouille  9.0\n"
     ]
    }
   ],
   "source": [
    "data = [['Stuart', 5], ['Jerry', 7], ['Rataouille', 9]]\n",
    "\n",
    "df = pd.DataFrame(data, columns=['Name', 'Age'], dtype=float)\n",
    "print(df)"
   ]
  },
  {
   "cell_type": "markdown",
   "metadata": {},
   "source": [
    "Also to instead of creating two different arrays and passing them we can use Python **Dictionaries** instead.\n",
    "\n",
    "Also using **Indexes** in it"
   ]
  },
  {
   "cell_type": "code",
   "execution_count": 32,
   "metadata": {},
   "outputs": [
    {
     "name": "stdout",
     "output_type": "stream",
     "text": [
      "   Age        Name\n",
      "a   10      Stuart\n",
      "b   12       Jerry\n",
      "c    7  Rataouille\n"
     ]
    }
   ],
   "source": [
    "data = {'Age':[10, 12, 7], 'Name':['Stuart', 'Jerry', 'Rataouille']}\n",
    "\n",
    "df = pd.DataFrame(data, index = ['a', 'b', 'c'])\n",
    "print(df)"
   ]
  },
  {
   "cell_type": "markdown",
   "metadata": {},
   "source": [
    "Another way of making a DataFrame is by using list of dictionaries"
   ]
  },
  {
   "cell_type": "code",
   "execution_count": 33,
   "metadata": {},
   "outputs": [
    {
     "name": "stdout",
     "output_type": "stream",
     "text": [
      "     x    y      z\n",
      "0   10   20    NaN\n",
      "1  200  350  400.0\n"
     ]
    }
   ],
   "source": [
    "data = [{'x':10, 'y':20}, {'x': 200, 'y': 350, 'z': 400}]\n",
    "\n",
    "df = pd.DataFrame(data)\n",
    "print(df)"
   ]
  },
  {
   "cell_type": "markdown",
   "metadata": {},
   "source": [
    "An important thing to notice here is whenever Pandas dont find data in an area it returns it as Nan(Not a Number)"
   ]
  },
  {
   "cell_type": "markdown",
   "metadata": {},
   "source": [
    "We can also make Dataframe by using different Series."
   ]
  },
  {
   "cell_type": "code",
   "execution_count": 37,
   "metadata": {},
   "outputs": [
    {
     "name": "stdout",
     "output_type": "stream",
     "text": [
      "   First  Second\n",
      "a    1.0       1\n",
      "b    2.0       2\n",
      "c    3.0       3\n",
      "d    NaN       4\n"
     ]
    }
   ],
   "source": [
    "data = {'First': pd.Series([1,2,3], index = ['a', 'b', 'c']),\n",
    "       'Second': pd.Series([1,2,3,4], index = ['a','b','c', 'd'])}\n",
    "\n",
    "df = pd.DataFrame(data)\n",
    "print(df)"
   ]
  },
  {
   "cell_type": "markdown",
   "metadata": {},
   "source": [
    "### Accessing different elements and operations can be done in DataFrame too."
   ]
  },
  {
   "cell_type": "markdown",
   "metadata": {},
   "source": [
    "Column Selection"
   ]
  },
  {
   "cell_type": "code",
   "execution_count": 39,
   "metadata": {},
   "outputs": [
    {
     "name": "stdout",
     "output_type": "stream",
     "text": [
      "0        Stuart\n",
      "1         Jerry\n",
      "2    Rataouille\n",
      "Name: Name, dtype: object\n"
     ]
    }
   ],
   "source": [
    "data = [['Stuart', 5], ['Jerry', 7], ['Rataouille', 9]]\n",
    "\n",
    "df = pd.DataFrame(data, columns=['Name', 'Age'], dtype=float)\n",
    "\n",
    "print(df['Name'])"
   ]
  },
  {
   "cell_type": "markdown",
   "metadata": {},
   "source": [
    "Adding Another Column in the DataFrame"
   ]
  },
  {
   "cell_type": "code",
   "execution_count": 41,
   "metadata": {},
   "outputs": [
    {
     "name": "stdout",
     "output_type": "stream",
     "text": [
      "         Name  Age   Size\n",
      "0      Stuart  5.0  Small\n",
      "1       Jerry  7.0  Small\n",
      "2  Rataouille  9.0  Small\n"
     ]
    }
   ],
   "source": [
    "data = [['Stuart', 5], ['Jerry', 7], ['Rataouille', 9]]\n",
    "\n",
    "df = pd.DataFrame(data, columns=['Name', 'Age'], dtype=float)\n",
    "df['Size'] = ['Small', 'Small', 'Small']\n",
    "\n",
    "print(df)"
   ]
  },
  {
   "cell_type": "code",
   "execution_count": 43,
   "metadata": {},
   "outputs": [],
   "source": [
    "# If the DataType of two or more columns are same, then they can be added together."
   ]
  },
  {
   "cell_type": "markdown",
   "metadata": {},
   "source": [
    "Deleting a column"
   ]
  },
  {
   "cell_type": "code",
   "execution_count": 53,
   "metadata": {},
   "outputs": [
    {
     "name": "stdout",
     "output_type": "stream",
     "text": [
      "         Name  Age   Size\n",
      "0      Stuart  5.0  Small\n",
      "1       Jerry  7.0  Small\n",
      "2  Rataouille  9.0  Small\n",
      " \n",
      "   Age   Size\n",
      "0  5.0  Small\n",
      "1  7.0  Small\n",
      "2  9.0  Small\n",
      " \n",
      "   Age\n",
      "0  5.0\n",
      "1  7.0\n",
      "2  9.0\n"
     ]
    }
   ],
   "source": [
    "data = [['Stuart', 5, 'Small'], ['Jerry', 7, 'Small'], ['Rataouille', 9, 'Small']]\n",
    "\n",
    "df = pd.DataFrame(data, columns=['Name', 'Age', 'Size'], dtype=float)\n",
    "\n",
    "print(df)\n",
    "print(\" \")\n",
    "\n",
    "#There are two ways to do it:\n",
    "\n",
    "del df['Name']\n",
    "print(df)\n",
    "\n",
    "print(\" \")\n",
    "\n",
    "df.pop('Size')\n",
    "print(df)"
   ]
  },
  {
   "cell_type": "markdown",
   "metadata": {},
   "source": [
    "A row can be selected by three ways: 'loc', 'iloc', 'slicing'"
   ]
  },
  {
   "cell_type": "code",
   "execution_count": 74,
   "metadata": {},
   "outputs": [
    {
     "name": "stdout",
     "output_type": "stream",
     "text": [
      "         Name  Age   Size\n",
      "a      Stuart    5  Small\n",
      "b       Jerry    7  Small\n",
      "c  Rataouille    9  Small\n",
      " \n",
      "Name    Stuart\n",
      "Age          5\n",
      "Size     Small\n",
      "Name: a, dtype: object\n",
      " \n",
      "Name    Jerry\n",
      "Age         7\n",
      "Size    Small\n",
      "Name: b, dtype: object\n",
      " \n",
      "         Name  Age   Size\n",
      "b       Jerry    7  Small\n",
      "c  Rataouille    9  Small\n"
     ]
    }
   ],
   "source": [
    "data = [['Stuart', 5, 'Small'], ['Jerry', 7, 'Small'], ['Rataouille', 9, 'Small']]\n",
    "\n",
    "df = pd.DataFrame(data, columns=['Name', 'Age', 'Size'],index=['a', 'b', 'c'])\n",
    "\n",
    "print(df)\n",
    "print(\" \")\n",
    "\n",
    "#using loc\n",
    "print(df.loc['a'])\n",
    "print(\" \")\n",
    "\n",
    "#using iloc\n",
    "print(df.iloc[1])\n",
    "print(\" \")\n",
    "\n",
    "#using slicing\n",
    "print(df[1:4])"
   ]
  },
  {
   "cell_type": "code",
   "execution_count": 75,
   "metadata": {},
   "outputs": [
    {
     "name": "stdout",
     "output_type": "stream",
     "text": [
      "   a  b\n",
      "0  1  2\n",
      "1  3  4\n",
      "0  5  6\n",
      "1  7  8\n",
      " \n",
      "   a  b\n",
      "1  3  4\n",
      "1  7  8\n"
     ]
    }
   ],
   "source": [
    "# Adding rows\n",
    "df = pd.DataFrame([[1, 2], [3, 4]], columns = ['a','b'])\n",
    "df2 = pd.DataFrame([[5, 6], [7, 8]], columns = ['a','b'])\n",
    "\n",
    "df = df.append(df2)\n",
    "print(df)\n",
    "print(\" \")\n",
    "\n",
    "#Deleting Rows\n",
    "df = df.drop(0)\n",
    "print(df)\n",
    "\n"
   ]
  },
  {
   "cell_type": "code",
   "execution_count": null,
   "metadata": {},
   "outputs": [],
   "source": []
  }
 ],
 "metadata": {
  "kernelspec": {
   "display_name": "Python 3",
   "language": "python",
   "name": "python3"
  },
  "language_info": {
   "codemirror_mode": {
    "name": "ipython",
    "version": 3
   },
   "file_extension": ".py",
   "mimetype": "text/x-python",
   "name": "python",
   "nbconvert_exporter": "python",
   "pygments_lexer": "ipython3",
   "version": "3.7.1"
  }
 },
 "nbformat": 4,
 "nbformat_minor": 2
}
